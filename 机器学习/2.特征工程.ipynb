{
 "cells": [
  {
   "cell_type": "markdown",
   "id": "db28c20d",
   "metadata": {},
   "source": [
    "### 特征工程 sklearn\n",
    "- 特征抽取\n",
    "- 数据特征预处理\n",
    "- 特征选择"
   ]
  },
  {
   "cell_type": "markdown",
   "id": "fd8bd392",
   "metadata": {},
   "source": [
    "### sklearn\n",
    "- 分类模型\n",
    "- 回归模型\n",
    "- 聚类模型\n",
    "- 特征工程"
   ]
  },
  {
   "cell_type": "code",
   "execution_count": null,
   "id": "cf36174a",
   "metadata": {},
   "outputs": [],
   "source": []
  },
  {
   "cell_type": "markdown",
   "id": "eb41c368",
   "metadata": {},
   "source": [
    "### 特征值化\n",
    "- 将字符串转换为数字"
   ]
  },
  {
   "cell_type": "code",
   "execution_count": 1,
   "id": "3c46fe3f",
   "metadata": {},
   "outputs": [
    {
     "name": "stdout",
     "output_type": "stream",
     "text": [
      "[[0 1 1 0 1 1 1 0]\n",
      " [1 1 1 1 0 1 0 1]]\n"
     ]
    }
   ],
   "source": [
    "from sklearn.feature_extraction.text import CountVectorizer\n",
    "vector = CountVectorizer()\n",
    "res = vector.fit_transform(['life is short, I love python','life is too long, I hate python'])\n",
    "print(res.toarray())"
   ]
  },
  {
   "cell_type": "markdown",
   "id": "c03ad60e",
   "metadata": {},
   "source": [
    "### 字典特征抽取\n",
    "-API:\n",
    "  - from sklearn.feature_extraction import Dict Vectorizer\n",
    "  - fit_transform(X):X为字典或者字典的迭代器\n",
    "  - inverse_transform(X) :X 为sparse矩阵或者array数组，返回值为转换之前的数据模式\n",
    "  - get_feature_name():返回类别名称"
   ]
  },
  {
   "cell_type": "code",
   "execution_count": 2,
   "id": "3b43c837",
   "metadata": {},
   "outputs": [
    {
     "name": "stdout",
     "output_type": "stream",
     "text": [
      "  (0, 0)\t1.0\n",
      "  (0, 3)\t33.0\n",
      "  (1, 2)\t1.0\n",
      "  (1, 3)\t40.0\n",
      "  (2, 1)\t1.0\n",
      "  (2, 3)\t42.0\n"
     ]
    }
   ],
   "source": [
    "from sklearn.feature_extraction import DictVectorizer\n",
    "alist = [{'city':'BeiJing','temp':33},\n",
    "         {'city':'SH','temp':40},\n",
    "         {'city':'GZ','temp':42}\n",
    "        ]\n",
    "d= DictVectorizer(sparse=True)\n",
    "feature = d.fit_transform(alist)\n",
    "print(feature)\n",
    "#输出结果：1为是，0为不是"
   ]
  },
  {
   "cell_type": "markdown",
   "id": "3385ed2c",
   "metadata": {},
   "source": [
    "### sparse矩阵\n",
    "- 在Dicvectorizer类的构造方法中设定sparse = False 返回的是一个数组\n",
    "  - get_feature_name():返回类别名称\n",
    "- sparse矩阵是一个变相的数组或者列表，目的是为了节省内存"
   ]
  },
  {
   "cell_type": "code",
   "execution_count": 3,
   "id": "2d773ab4",
   "metadata": {},
   "outputs": [
    {
     "name": "stdout",
     "output_type": "stream",
     "text": [
      "['city=BeiJing' 'city=GZ' 'city=SH' 'temp']\n",
      "[[ 1.  0.  0. 33.]\n",
      " [ 0.  0.  1. 40.]\n",
      " [ 0.  1.  0. 42.]]\n"
     ]
    }
   ],
   "source": [
    "from sklearn.feature_extraction import DictVectorizer\n",
    "alist = [{'city':'BeiJing','temp':33},\n",
    "         {'city':'SH','temp':40},\n",
    "         {'city':'GZ','temp':42}\n",
    "        ]\n",
    "d= DictVectorizer(sparse=False)\n",
    "#返回的是一个二位列表\n",
    "feature = d.fit_transform(alist)\n",
    "print(d.get_feature_names_out())\n",
    "print(feature)\n",
    "#输出结果：1为是，0为不是"
   ]
  },
  {
   "cell_type": "markdown",
   "id": "1692a1e1",
   "metadata": {},
   "source": [
    "### OneHot编码\n",
    "- 基于pandas实现onehot编码\n",
    "- pd.get_dummies(df[;col'])"
   ]
  },
  {
   "cell_type": "code",
   "execution_count": 4,
   "id": "0b90cc41",
   "metadata": {},
   "outputs": [
    {
     "data": {
      "text/html": [
       "<div>\n",
       "<style scoped>\n",
       "    .dataframe tbody tr th:only-of-type {\n",
       "        vertical-align: middle;\n",
       "    }\n",
       "\n",
       "    .dataframe tbody tr th {\n",
       "        vertical-align: top;\n",
       "    }\n",
       "\n",
       "    .dataframe thead th {\n",
       "        text-align: right;\n",
       "    }\n",
       "</style>\n",
       "<table border=\"1\" class=\"dataframe\">\n",
       "  <thead>\n",
       "    <tr style=\"text-align: right;\">\n",
       "      <th></th>\n",
       "      <th>color</th>\n",
       "      <th>size</th>\n",
       "      <th>weight</th>\n",
       "      <th>class label</th>\n",
       "    </tr>\n",
       "  </thead>\n",
       "  <tbody>\n",
       "    <tr>\n",
       "      <th>0</th>\n",
       "      <td>green</td>\n",
       "      <td>M</td>\n",
       "      <td>20</td>\n",
       "      <td>class1</td>\n",
       "    </tr>\n",
       "    <tr>\n",
       "      <th>1</th>\n",
       "      <td>red</td>\n",
       "      <td>L</td>\n",
       "      <td>21</td>\n",
       "      <td>class2</td>\n",
       "    </tr>\n",
       "    <tr>\n",
       "      <th>2</th>\n",
       "      <td>blue</td>\n",
       "      <td>XL</td>\n",
       "      <td>30</td>\n",
       "      <td>class3</td>\n",
       "    </tr>\n",
       "  </tbody>\n",
       "</table>\n",
       "</div>"
      ],
      "text/plain": [
       "   color size  weight class label\n",
       "0  green    M      20      class1\n",
       "1    red    L      21      class2\n",
       "2   blue   XL      30      class3"
      ]
     },
     "execution_count": 4,
     "metadata": {},
     "output_type": "execute_result"
    }
   ],
   "source": [
    "import pandas as pd\n",
    "df = pd.DataFrame([    \n",
    "    ['green','M',20,'class1'],\n",
    "    ['red','L',21,'class2'],\n",
    "    ['blue','XL',30,'class3']])\n",
    "df.columns = ['color','size','weight','class label']\n",
    "df"
   ]
  },
  {
   "cell_type": "code",
   "execution_count": 5,
   "id": "dec9bf87",
   "metadata": {},
   "outputs": [
    {
     "data": {
      "text/html": [
       "<div>\n",
       "<style scoped>\n",
       "    .dataframe tbody tr th:only-of-type {\n",
       "        vertical-align: middle;\n",
       "    }\n",
       "\n",
       "    .dataframe tbody tr th {\n",
       "        vertical-align: top;\n",
       "    }\n",
       "\n",
       "    .dataframe thead th {\n",
       "        text-align: right;\n",
       "    }\n",
       "</style>\n",
       "<table border=\"1\" class=\"dataframe\">\n",
       "  <thead>\n",
       "    <tr style=\"text-align: right;\">\n",
       "      <th></th>\n",
       "      <th>blue</th>\n",
       "      <th>green</th>\n",
       "      <th>red</th>\n",
       "    </tr>\n",
       "  </thead>\n",
       "  <tbody>\n",
       "    <tr>\n",
       "      <th>0</th>\n",
       "      <td>0</td>\n",
       "      <td>1</td>\n",
       "      <td>0</td>\n",
       "    </tr>\n",
       "    <tr>\n",
       "      <th>1</th>\n",
       "      <td>0</td>\n",
       "      <td>0</td>\n",
       "      <td>1</td>\n",
       "    </tr>\n",
       "    <tr>\n",
       "      <th>2</th>\n",
       "      <td>1</td>\n",
       "      <td>0</td>\n",
       "      <td>0</td>\n",
       "    </tr>\n",
       "  </tbody>\n",
       "</table>\n",
       "</div>"
      ],
      "text/plain": [
       "   blue  green  red\n",
       "0     0      1    0\n",
       "1     0      0    1\n",
       "2     1      0    0"
      ]
     },
     "execution_count": 5,
     "metadata": {},
     "output_type": "execute_result"
    }
   ],
   "source": [
    "pd.get_dummies(df['color'],dtype=int)"
   ]
  },
  {
   "cell_type": "markdown",
   "id": "8d7bf9b9",
   "metadata": {},
   "source": [
    "###  文本特征抽取\n",
    "- 作用：对文本数据进行特征值化\n",
    "- API:from sklearn.feature_extraction.text import CountVectorizer\n",
    "- fit_transform(x):x为文本或者包含文本字符串的可迭代对象，返回sparse矩阵\n",
    "- inverse_transform(x):x为array数组或者sparse矩阵，返回转换之前的数据格式\n",
    "- get_feature_names_out()\n",
    "- toarray():将sparse矩阵转换成数组"
   ]
  },
  {
   "cell_type": "code",
   "execution_count": 6,
   "id": "161e7ee2",
   "metadata": {},
   "outputs": [
    {
     "name": "stdout",
     "output_type": "stream",
     "text": [
      "  (0, 2)\t1\n",
      "  (0, 1)\t1\n",
      "  (0, 6)\t1\n",
      "  (0, 4)\t1\n",
      "  (0, 5)\t1\n",
      "  (1, 2)\t1\n",
      "  (1, 1)\t1\n",
      "  (1, 5)\t1\n",
      "  (1, 7)\t1\n",
      "  (1, 3)\t1\n",
      "  (1, 0)\t1\n",
      "['hate' 'is' 'life' 'long' 'love' 'python' 'short' 'too']\n",
      "[[0 1 1 0 1 1 1 0]\n",
      " [1 1 1 1 0 1 0 1]]\n"
     ]
    }
   ],
   "source": [
    "from sklearn.feature_extraction.text import CountVectorizer\n",
    "vector = CountVectorizer()\n",
    "res = vector.fit_transform(['life is short, I love python','life is too long, I hate python'])\n",
    "print(res) #sparse矩阵\n",
    "print(vector.get_feature_names_out())\n",
    "print(res.toarray())\n",
    "#单字母补统计（因为单个字母代表不了实际含义），数字代表字母出现次数"
   ]
  },
  {
   "cell_type": "markdown",
   "id": "26d9476d",
   "metadata": {},
   "source": [
    "- 中文文本特征抽取\n",
    "  - 对有标点符号的中文文本进行特征抽取"
   ]
  },
  {
   "cell_type": "code",
   "execution_count": 7,
   "id": "c53861c9",
   "metadata": {},
   "outputs": [
    {
     "name": "stdout",
     "output_type": "stream",
     "text": [
      "  (0, 2)\t1\n",
      "  (0, 3)\t1\n",
      "  (1, 1)\t1\n",
      "  (1, 0)\t1\n",
      "['又摘桃花换酒钱' '桃花仙人种桃树' '桃花坞里桃花庵' '桃花庵里桃花仙']\n",
      "[[0 0 1 1]\n",
      " [1 1 0 0]]\n"
     ]
    }
   ],
   "source": [
    "from sklearn.feature_extraction.text import CountVectorizer\n",
    "vector = CountVectorizer()\n",
    "res = vector.fit_transform(['桃花坞里桃花庵，桃花庵里桃花仙','桃花仙人种桃树，又摘桃花换酒钱'])\n",
    "print(res)\n",
    "print(vector.get_feature_names_out())\n",
    "print(res.toarray())"
   ]
  },
  {
   "cell_type": "markdown",
   "id": "0c28d637",
   "metadata": {},
   "source": [
    "- 对有标点符号且有空格的中文文本进行特征抽取"
   ]
  },
  {
   "cell_type": "code",
   "execution_count": 8,
   "id": "6417d5cc",
   "metadata": {},
   "outputs": [
    {
     "name": "stdout",
     "output_type": "stream",
     "text": [
      "  (0, 3)\t1\n",
      "  (0, 4)\t2\n",
      "  (0, 2)\t1\n",
      "  (1, 2)\t1\n",
      "  (1, 0)\t1\n",
      "  (1, 1)\t1\n",
      "  (1, 5)\t1\n",
      "['人种桃树' '又摘' '桃花仙' '桃花坞' '桃花庵' '桃花换酒钱']\n",
      "[[0 0 1 1 2 0]\n",
      " [1 1 1 0 0 1]]\n"
     ]
    }
   ],
   "source": [
    "from sklearn.feature_extraction.text import CountVectorizer\n",
    "vector = CountVectorizer()\n",
    "res = vector.fit_transform(['桃花坞 里 桃花庵，桃花庵 里 桃花仙','桃花仙 人种桃树，又摘 桃花换酒钱'])\n",
    "print(res)\n",
    "print(vector.get_feature_names_out())\n",
    "print(res.toarray())\n",
    "#单个汉字不统计"
   ]
  },
  {
   "cell_type": "markdown",
   "id": "e2cdd540",
   "metadata": {},
   "source": [
    "- 目前countVectorizer 只可以对有标点符号或者有分隔符的文本进行特征抽取"
   ]
  },
  {
   "cell_type": "markdown",
   "id": "3c594d1a",
   "metadata": {},
   "source": [
    "- jieba分词\n",
    "  - 对中文文章进行分词处理\n",
    "  - pip install jieba\n",
    "- jieba分词的基本使用"
   ]
  },
  {
   "cell_type": "code",
   "execution_count": 9,
   "id": "2cb2744f",
   "metadata": {},
   "outputs": [
    {
     "name": "stderr",
     "output_type": "stream",
     "text": [
      "Building prefix dict from the default dictionary ...\n",
      "Dumping model to file cache C:\\Users\\53273\\AppData\\Local\\Temp\\jieba.cache\n",
      "Loading model cost 0.533 seconds.\n",
      "Prefix dict has been built successfully.\n"
     ]
    },
    {
     "name": "stdout",
     "output_type": "stream",
     "text": [
      "['桃花坞', '里', '桃花庵']\n",
      "桃花坞里桃花庵\n"
     ]
    }
   ],
   "source": [
    "#对文章进行分词\n",
    "import jieba\n",
    "jb = jieba.cut('桃花坞里桃花庵')\n",
    "content = list(jb)\n",
    "print(content)\n",
    "ct = ''.join(content)\n",
    "print(ct)#返回空格区的词语"
   ]
  },
  {
   "cell_type": "code",
   "execution_count": 10,
   "id": "48b8adf1",
   "metadata": {},
   "outputs": [
    {
     "name": "stdout",
     "output_type": "stream",
     "text": [
      "桃花坞 里 桃花庵 ， 桃花庵 里 桃花仙 ?   桃花坞 里 桃花庵 ， 桃花庵 里 桃花仙 !  \n"
     ]
    }
   ],
   "source": [
    "jb1 = jieba.cut('桃花坞里桃花庵，桃花庵里桃花仙? ')\n",
    "ct1 = ' '.join(list(jb1))\n",
    "jb2 = jieba.cut('桃花坞里桃花庵，桃花庵里桃花仙! ')\n",
    "ct2 = ' '.join(list(jb2))\n",
    "print(ct1,ct2)\n"
   ]
  },
  {
   "cell_type": "code",
   "execution_count": 11,
   "id": "b83c965c",
   "metadata": {},
   "outputs": [
    {
     "name": "stdout",
     "output_type": "stream",
     "text": [
      "  (0, 1)\t1\n",
      "  (0, 2)\t2\n",
      "  (0, 0)\t1\n",
      "  (1, 1)\t1\n",
      "  (1, 2)\t2\n",
      "  (1, 0)\t1\n",
      "['桃花仙' '桃花坞' '桃花庵']\n",
      "[[1 1 2]\n",
      " [1 1 2]]\n"
     ]
    }
   ],
   "source": [
    "#中文文本特征抽取\n",
    "from sklearn.feature_extraction.text import CountVectorizer\n",
    "vector = CountVectorizer()\n",
    "res = vector.fit_transform([ct1,ct2])\n",
    "print(res)\n",
    "print(vector.get_feature_names_out())\n",
    "print(res.toarray())\n",
    "##单个汉字不统计"
   ]
  },
  {
   "cell_type": "markdown",
   "id": "f3bc39c5",
   "metadata": {},
   "source": [
    "### 特征预处理：对数值型数据\n",
    "- 无量纲化：\n",
    "  - 将不同规格的数据转换到统一规格，例如k-means聚类中，无量纲化可以提升模型精度。一个特例是决策树和树的集成算法，对决策树不需要无量纲化。\n",
    "  - 通过特定的统计方法（函数）\n",
    "  - 方法：\n",
    "    - 归一化\n",
    "    - 标准化"
   ]
  },
  {
   "cell_type": "markdown",
   "id": "b354dcbf",
   "metadata": {},
   "source": [
    "### 案例需求分析\n",
    "- 海伦女士一直使用在线约会网站寻找适合自己的约会对象。尽管约会网站会推荐不同的任选，但她并不是喜欢每一个人。经过一番总结，她发现自己交往过的人可以进行如下分类：\n",
    "  - 不喜欢的人\n",
    "  - 魅力一般的人\n",
    "  - 极具魅力的人\n",
    "- 海伦收集约会数据已经有了一段时间，她把这些数据存放在文本文件datingTestSet.txt中，每个样本数据占据一行，总共有1000行。\n",
    "\n",
    "- 海伦收集的样本数据主要包含以下3种特征：\n",
    "  1. 每年获得的飞行常客里程数\n",
    "  2. 玩视频游戏所消耗时间百分比\n",
    "  3. 每周消费的冰淇淋公升数\n",
    "  - <font color=red >统计人觉得三个特征同等重要"
   ]
  },
  {
   "cell_type": "markdown",
   "id": "33f6a52b",
   "metadata": {},
   "source": [
    "- 归一化实现\n",
    "  - <font color=red >将原始数据映射到[0,1]之间\n",
    "  - 公式：  \n",
    "    X' = $\\frac{ x - min }{ max - min }$<br> \n",
    "    X'' = X' * ($m_x$ - $m_i$)+$m_i$  \n",
    "  - 作用于每一列，max为每一列最大值，X''为最终结果，$m_x$ 和 $m_i$分别为指定区间，默认值是1和0\n",
    "  - 归一化后的数据服从正态分布"
   ]
  },
  {
   "cell_type": "markdown",
   "id": "660b28a5",
   "metadata": {},
   "source": [
    "- API: from sklearn.preprocessing import MinMaxScaler\n",
    "  - 参数： feature_range表示缩放范围，通常使用（0，1）\n",
    "- 作用： 使得某一个特征值对最终结果不会造成很大影响 "
   ]
  },
  {
   "cell_type": "code",
   "execution_count": 12,
   "id": "06cda715",
   "metadata": {},
   "outputs": [
    {
     "name": "stdout",
     "output_type": "stream",
     "text": [
      "[[1.         0.         0.         0.        ]\n",
      " [0.         1.         1.         1.        ]\n",
      " [0.43333333 0.33333333 0.6        1.        ]]\n"
     ]
    }
   ],
   "source": [
    "from sklearn.preprocessing import MinMaxScaler\n",
    "mm = MinMaxScaler(feature_range=(0,1))\n",
    "data = [[90,2,10,40],[60,5,15,45],[73,3,13,45]]\n",
    "data = mm.fit_transform(data)#\n",
    "print(data)"
   ]
  },
  {
   "cell_type": "markdown",
   "id": "0c11ef61",
   "metadata": {},
   "source": [
    "#### 数据中如果存在很多异常值，会对结果造成什么样的影响？\n",
    "- 结合归一化计算公式可知，异常值对原始数据中最大值和最小值的影响很大，因此也会影响归一化后的值\n",
    "- 标准化可以更好处理异常值问题\n",
    "\n",
    "- 标准化的处理\n",
    "  - 当数据按均值中心化后，再按标准差缩放，数据就会服从为均值为0，方差为1的正态分布，这个过程叫做数据标准化\n",
    "  - 公式: X' = $\\frac{x - mean}{\\sigma}$ <br>\n",
    "  注意：作用于每一列，mean为平均值，$\\sigma$为标准差<br>\n",
    "  var成为方差，var =  $\\frac{(x_1 - mean)^2 +(x_2 - mean)^2  + ...}{n(每个特征的样本数)}$，$\\sigma$ = $\\sqrt{var}$<br>\n",
    "  <font color=red > 方差考量数据的稳定性\n",
    "    "
   ]
  },
  {
   "cell_type": "markdown",
   "id": "ac224788",
   "metadata": {},
   "source": [
    "- 归一化：异常值会影响特征的最大值和最小值，最终数据会受比较大的影响\n",
    "- 标准化： 具有一定的数据量，少量的异常点对于平均值的影响不大\n",
    "- 一般情况下，先使用standerdScaler 效果不好使用MinMaxScaler"
   ]
  },
  {
   "cell_type": "code",
   "execution_count": 15,
   "id": "855530a2",
   "metadata": {},
   "outputs": [
    {
     "name": "stdout",
     "output_type": "stream",
     "text": [
      "[[ 1.27540458 -1.06904497 -1.29777137 -1.41421356]\n",
      " [-1.16685951  1.33630621  1.13554995  0.70710678]\n",
      " [-0.10854507 -0.26726124  0.16222142  0.70710678]]\n"
     ]
    }
   ],
   "source": [
    "from sklearn.preprocessing import StandardScaler\n",
    "ss = StandardScaler()\n",
    "data = [[90,2,10,40],[60,5,15,45],[73,3,13,45]]\n",
    "data = ss.fit_transform(data)#\n",
    "print(data)"
   ]
  },
  {
   "cell_type": "markdown",
   "id": "f7ce0316",
   "metadata": {},
   "source": [
    "#### 特征选择\n",
    "- 人为对不想管特征进行主管摒弃\n",
    "- 在已有特征和对应预测结果的基础上使用工具过滤掉一些无用或权重较低的特征\n",
    "  - 工具：\n",
    "    - Filter（过滤式）\n",
    "    - Embedd（嵌入式）：决策树模型自己选择出重要的特征\n",
    "    - PCA降维"
   ]
  },
  {
   "cell_type": "markdown",
   "id": "4bdd1ce2",
   "metadata": {},
   "source": [
    "#### Filter（方差过滤）\n",
    "- 优先消除方差为0 或方差极低的特征\n",
    "- API：from sklearn.feature_selection import VarianceThreshold\n",
    "- Variance Threshold(threshold = x) threshold方差的值，删除所有方差低于x的特征，默认值为0\n",
    "- fit_tranform(X) X为特征"
   ]
  },
  {
   "cell_type": "code",
   "execution_count": null,
   "id": "cb869dc9",
   "metadata": {},
   "outputs": [],
   "source": [
    "from sklearn.feature_selection import VarianceThreshold\n",
    "v = VarianceThreshold(threshold=0.5)\n",
    "v.fit_transform([[0,2,4,3],[0,3,7,3],[0,9,6,3]])"
   ]
  },
  {
   "cell_type": "markdown",
   "id": "77dc141f",
   "metadata": {},
   "source": [
    "- 留下一半的特征：找到中位数，将中位数作为参数\n",
    "  - VarianceThreshold(np.median(X.var().values().fit_transform(X)\n",
    "- 方差过滤的影响\n",
    "  - KNN需要遍历每一个样本每一个特征，因此特征过多，KNN计算也会变慢"
   ]
  },
  {
   "cell_type": "code",
   "execution_count": null,
   "id": "1aa56a14",
   "metadata": {},
   "outputs": [],
   "source": [
    "import numpy as np\n",
    "feature = np.random.randint(0,100,size=(5,10))\n",
    "feature"
   ]
  },
  {
   "cell_type": "code",
   "execution_count": null,
   "id": "bafb29f4",
   "metadata": {},
   "outputs": [],
   "source": [
    "med = np.median(feature.var(axis=0))"
   ]
  },
  {
   "cell_type": "code",
   "execution_count": null,
   "id": "bd279c9a",
   "metadata": {},
   "outputs": [],
   "source": [
    "v = VarianceThreshold(threshold=med)\n",
    "v.fit_transform(feature)"
   ]
  },
  {
   "cell_type": "markdown",
   "id": "c408579d",
   "metadata": {},
   "source": [
    "#### PAC降维\n",
    "- 原理：原始数据如果是二维，可以将原始特征映射到一维的线段上4\n",
    "- PAC语法：\n",
    "  - from sklearn.decomposition import PAC\n",
    "  - pca = PAC(n_components=None)\n",
    "    - n_components可以是小数（保留特征的百分比），整数（减少到的特征数量）\n",
    "  - pca.fit_transform(X)"
   ]
  },
  {
   "cell_type": "code",
   "execution_count": null,
   "id": "f1f2f63e",
   "metadata": {},
   "outputs": [],
   "source": [
    "from sklearn.decomposition import PCA\n",
    "pca = PCA(n_components=3)\n",
    "pca.fit_transform([[0,2,4,3],[0,3,7,3],[0,9,6,3]])"
   ]
  },
  {
   "cell_type": "code",
   "execution_count": null,
   "id": "c3386b0a",
   "metadata": {},
   "outputs": [],
   "source": []
  }
 ],
 "metadata": {
  "kernelspec": {
   "display_name": "Python 3 (ipykernel)",
   "language": "python",
   "name": "python3"
  },
  "language_info": {
   "codemirror_mode": {
    "name": "ipython",
    "version": 3
   },
   "file_extension": ".py",
   "mimetype": "text/x-python",
   "name": "python",
   "nbconvert_exporter": "python",
   "pygments_lexer": "ipython3",
   "version": "3.11.5"
  }
 },
 "nbformat": 4,
 "nbformat_minor": 5
}
